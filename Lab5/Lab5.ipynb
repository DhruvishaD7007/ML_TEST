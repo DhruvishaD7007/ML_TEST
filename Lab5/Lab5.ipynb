{
 "cells": [
  {
   "cell_type": "markdown",
   "id": "2b012b2a",
   "metadata": {},
   "source": [
    "<a href='https://www.darshan.ac.in/'> <img src='https://www.darshan.ac.in/Content/media/DU_Logo.svg' width=\"250\" height=\"300\"/></a>\n",
    "<pre>\n",
    "<center><b><h1>Machine Learning - 2301CS621</b></center>\n",
    "\n",
    "<center><b><h1>Lab - 5</b></center>    \n",
    "<pre>    "
   ]
  },
  {
   "cell_type": "markdown",
   "id": "b34a93c5",
   "metadata": {},
   "source": [
    "# SVR"
   ]
  },
  {
   "cell_type": "markdown",
   "id": "dd4631cd",
   "metadata": {},
   "source": [
    "# Importing the libraries"
   ]
  },
  {
   "cell_type": "code",
   "execution_count": 18,
   "id": "c41652c5",
   "metadata": {},
   "outputs": [],
   "source": [
    "import pandas as pd \n",
    "import numpy as np\n",
    "import matplotlib.pyplot as plt\n",
    "from sklearn.model_selection import train_test_split\n",
    "from sklearn.svm import SVR"
   ]
  },
  {
   "cell_type": "markdown",
   "id": "fd08e5ff",
   "metadata": {},
   "source": [
    "# Read World bank CSV"
   ]
  },
  {
   "cell_type": "code",
   "execution_count": 10,
   "id": "e3a7dded",
   "metadata": {},
   "outputs": [],
   "source": [
    "data=pd.read_csv(\"WorldBank.csv\")"
   ]
  },
  {
   "cell_type": "code",
   "execution_count": 11,
   "id": "f9d8d387",
   "metadata": {},
   "outputs": [
    {
     "data": {
      "text/html": [
       "<div>\n",
       "<style scoped>\n",
       "    .dataframe tbody tr th:only-of-type {\n",
       "        vertical-align: middle;\n",
       "    }\n",
       "\n",
       "    .dataframe tbody tr th {\n",
       "        vertical-align: top;\n",
       "    }\n",
       "\n",
       "    .dataframe thead th {\n",
       "        text-align: right;\n",
       "    }\n",
       "</style>\n",
       "<table border=\"1\" class=\"dataframe\">\n",
       "  <thead>\n",
       "    <tr style=\"text-align: right;\">\n",
       "      <th></th>\n",
       "      <th>Country Name</th>\n",
       "      <th>Country Code</th>\n",
       "      <th>Indicator Name</th>\n",
       "      <th>Indicator Code</th>\n",
       "      <th>1960</th>\n",
       "      <th>1961</th>\n",
       "      <th>1962</th>\n",
       "      <th>1963</th>\n",
       "      <th>1964</th>\n",
       "      <th>1965</th>\n",
       "      <th>...</th>\n",
       "      <th>2011</th>\n",
       "      <th>2012</th>\n",
       "      <th>2013</th>\n",
       "      <th>2014</th>\n",
       "      <th>2015</th>\n",
       "      <th>2016</th>\n",
       "      <th>2017</th>\n",
       "      <th>2018</th>\n",
       "      <th>2019</th>\n",
       "      <th>2020</th>\n",
       "    </tr>\n",
       "  </thead>\n",
       "  <tbody>\n",
       "    <tr>\n",
       "      <th>0</th>\n",
       "      <td>India</td>\n",
       "      <td>IND</td>\n",
       "      <td>Export value index (2000 = 100)</td>\n",
       "      <td>TX.VAL.MRCH.XD.WD</td>\n",
       "      <td>NaN</td>\n",
       "      <td>NaN</td>\n",
       "      <td>NaN</td>\n",
       "      <td>NaN</td>\n",
       "      <td>NaN</td>\n",
       "      <td>NaN</td>\n",
       "      <td>...</td>\n",
       "      <td>7.147485e+02</td>\n",
       "      <td>7.004085e+02</td>\n",
       "      <td>7.429281e+02</td>\n",
       "      <td>7.614417e+02</td>\n",
       "      <td>6.322694e+02</td>\n",
       "      <td>6.242250e+02</td>\n",
       "      <td>7.061028e+02</td>\n",
       "      <td>7.663608e+02</td>\n",
       "      <td>NaN</td>\n",
       "      <td>NaN</td>\n",
       "    </tr>\n",
       "    <tr>\n",
       "      <th>1</th>\n",
       "      <td>India</td>\n",
       "      <td>IND</td>\n",
       "      <td>Insurance and financial services (% of commerc...</td>\n",
       "      <td>TX.VAL.INSF.ZS.WT</td>\n",
       "      <td>NaN</td>\n",
       "      <td>NaN</td>\n",
       "      <td>NaN</td>\n",
       "      <td>NaN</td>\n",
       "      <td>NaN</td>\n",
       "      <td>NaN</td>\n",
       "      <td>...</td>\n",
       "      <td>6.403614e+00</td>\n",
       "      <td>5.246771e+00</td>\n",
       "      <td>5.729495e+00</td>\n",
       "      <td>5.060904e+00</td>\n",
       "      <td>4.706801e+00</td>\n",
       "      <td>4.471147e+00</td>\n",
       "      <td>3.760466e+00</td>\n",
       "      <td>3.921611e+00</td>\n",
       "      <td>3.438072e+00</td>\n",
       "      <td>NaN</td>\n",
       "    </tr>\n",
       "    <tr>\n",
       "      <th>2</th>\n",
       "      <td>India</td>\n",
       "      <td>IND</td>\n",
       "      <td>Merchandise imports by the reporting economy, ...</td>\n",
       "      <td>TM.VAL.MRCH.RS.ZS</td>\n",
       "      <td>4.983551</td>\n",
       "      <td>6.488050e+00</td>\n",
       "      <td>1.012461e+01</td>\n",
       "      <td>9.451370e+00</td>\n",
       "      <td>1.052948e+01</td>\n",
       "      <td>1.089112e+01</td>\n",
       "      <td>...</td>\n",
       "      <td>7.550664e-01</td>\n",
       "      <td>2.738416e-01</td>\n",
       "      <td>4.409538e-01</td>\n",
       "      <td>1.514439e+00</td>\n",
       "      <td>2.228351e+00</td>\n",
       "      <td>2.270593e+00</td>\n",
       "      <td>1.770314e+00</td>\n",
       "      <td>5.354193e-01</td>\n",
       "      <td>NaN</td>\n",
       "      <td>NaN</td>\n",
       "    </tr>\n",
       "    <tr>\n",
       "      <th>3</th>\n",
       "      <td>India</td>\n",
       "      <td>IND</td>\n",
       "      <td>Food imports (% of merchandise imports)</td>\n",
       "      <td>TM.VAL.FOOD.ZS.UN</td>\n",
       "      <td>NaN</td>\n",
       "      <td>NaN</td>\n",
       "      <td>1.708001e+01</td>\n",
       "      <td>1.519791e+01</td>\n",
       "      <td>1.686304e+01</td>\n",
       "      <td>2.200813e+01</td>\n",
       "      <td>...</td>\n",
       "      <td>3.741041e+00</td>\n",
       "      <td>4.048246e+00</td>\n",
       "      <td>3.895215e+00</td>\n",
       "      <td>4.458509e+00</td>\n",
       "      <td>5.758038e+00</td>\n",
       "      <td>6.505293e+00</td>\n",
       "      <td>6.137617e+00</td>\n",
       "      <td>4.156488e+00</td>\n",
       "      <td>4.248261e+00</td>\n",
       "      <td>NaN</td>\n",
       "    </tr>\n",
       "    <tr>\n",
       "      <th>4</th>\n",
       "      <td>India</td>\n",
       "      <td>IND</td>\n",
       "      <td>Share of tariff lines with international peaks...</td>\n",
       "      <td>TM.TAX.MRCH.IP.ZS</td>\n",
       "      <td>NaN</td>\n",
       "      <td>NaN</td>\n",
       "      <td>NaN</td>\n",
       "      <td>NaN</td>\n",
       "      <td>NaN</td>\n",
       "      <td>NaN</td>\n",
       "      <td>...</td>\n",
       "      <td>8.434346e+00</td>\n",
       "      <td>8.641136e+00</td>\n",
       "      <td>8.576307e+00</td>\n",
       "      <td>NaN</td>\n",
       "      <td>5.802677e+00</td>\n",
       "      <td>7.707811e+00</td>\n",
       "      <td>8.288774e+00</td>\n",
       "      <td>9.111423e+00</td>\n",
       "      <td>NaN</td>\n",
       "      <td>NaN</td>\n",
       "    </tr>\n",
       "    <tr>\n",
       "      <th>...</th>\n",
       "      <td>...</td>\n",
       "      <td>...</td>\n",
       "      <td>...</td>\n",
       "      <td>...</td>\n",
       "      <td>...</td>\n",
       "      <td>...</td>\n",
       "      <td>...</td>\n",
       "      <td>...</td>\n",
       "      <td>...</td>\n",
       "      <td>...</td>\n",
       "      <td>...</td>\n",
       "      <td>...</td>\n",
       "      <td>...</td>\n",
       "      <td>...</td>\n",
       "      <td>...</td>\n",
       "      <td>...</td>\n",
       "      <td>...</td>\n",
       "      <td>...</td>\n",
       "      <td>...</td>\n",
       "      <td>...</td>\n",
       "      <td>...</td>\n",
       "    </tr>\n",
       "    <tr>\n",
       "      <th>1435</th>\n",
       "      <td>India</td>\n",
       "      <td>IND</td>\n",
       "      <td>Foreign direct investment, net inflows (% of GDP)</td>\n",
       "      <td>BX.KLT.DINV.WD.GD.ZS</td>\n",
       "      <td>NaN</td>\n",
       "      <td>NaN</td>\n",
       "      <td>NaN</td>\n",
       "      <td>NaN</td>\n",
       "      <td>NaN</td>\n",
       "      <td>NaN</td>\n",
       "      <td>...</td>\n",
       "      <td>2.002065e+00</td>\n",
       "      <td>1.312934e+00</td>\n",
       "      <td>1.516276e+00</td>\n",
       "      <td>1.695659e+00</td>\n",
       "      <td>2.092116e+00</td>\n",
       "      <td>1.937363e+00</td>\n",
       "      <td>1.506588e+00</td>\n",
       "      <td>1.552336e+00</td>\n",
       "      <td>1.760283e+00</td>\n",
       "      <td>NaN</td>\n",
       "    </tr>\n",
       "    <tr>\n",
       "      <th>1436</th>\n",
       "      <td>India</td>\n",
       "      <td>IND</td>\n",
       "      <td>Net capital account (BoP, current US$)</td>\n",
       "      <td>BN.TRF.KOGT.CD</td>\n",
       "      <td>NaN</td>\n",
       "      <td>NaN</td>\n",
       "      <td>NaN</td>\n",
       "      <td>NaN</td>\n",
       "      <td>NaN</td>\n",
       "      <td>NaN</td>\n",
       "      <td>...</td>\n",
       "      <td>6.791581e+07</td>\n",
       "      <td>-5.972328e+08</td>\n",
       "      <td>9.618297e+08</td>\n",
       "      <td>-7.433364e+07</td>\n",
       "      <td>3.706943e+07</td>\n",
       "      <td>1.368359e+08</td>\n",
       "      <td>3.731153e+07</td>\n",
       "      <td>-1.231007e+08</td>\n",
       "      <td>-1.155591e+09</td>\n",
       "      <td>NaN</td>\n",
       "    </tr>\n",
       "    <tr>\n",
       "      <th>1437</th>\n",
       "      <td>India</td>\n",
       "      <td>IND</td>\n",
       "      <td>Travel services (% of service imports, BoP)</td>\n",
       "      <td>BM.GSR.TRVL.ZS</td>\n",
       "      <td>NaN</td>\n",
       "      <td>NaN</td>\n",
       "      <td>NaN</td>\n",
       "      <td>NaN</td>\n",
       "      <td>NaN</td>\n",
       "      <td>NaN</td>\n",
       "      <td>...</td>\n",
       "      <td>1.761773e+01</td>\n",
       "      <td>1.544257e+01</td>\n",
       "      <td>1.475397e+01</td>\n",
       "      <td>1.799216e+01</td>\n",
       "      <td>1.795378e+01</td>\n",
       "      <td>1.707263e+01</td>\n",
       "      <td>1.686302e+01</td>\n",
       "      <td>1.716750e+01</td>\n",
       "      <td>1.755462e+01</td>\n",
       "      <td>NaN</td>\n",
       "    </tr>\n",
       "    <tr>\n",
       "      <th>1438</th>\n",
       "      <td>India</td>\n",
       "      <td>IND</td>\n",
       "      <td>Cereal production (metric tons)</td>\n",
       "      <td>AG.PRD.CREL.MT</td>\n",
       "      <td>NaN</td>\n",
       "      <td>8.737650e+07</td>\n",
       "      <td>8.725755e+07</td>\n",
       "      <td>9.037301e+07</td>\n",
       "      <td>9.370600e+07</td>\n",
       "      <td>7.969950e+07</td>\n",
       "      <td>...</td>\n",
       "      <td>2.878600e+08</td>\n",
       "      <td>2.932900e+08</td>\n",
       "      <td>2.949095e+08</td>\n",
       "      <td>2.960100e+08</td>\n",
       "      <td>2.843330e+08</td>\n",
       "      <td>2.978500e+08</td>\n",
       "      <td>3.136100e+08</td>\n",
       "      <td>NaN</td>\n",
       "      <td>NaN</td>\n",
       "      <td>NaN</td>\n",
       "    </tr>\n",
       "    <tr>\n",
       "      <th>1439</th>\n",
       "      <td>India</td>\n",
       "      <td>IND</td>\n",
       "      <td>Arable land (% of land area)</td>\n",
       "      <td>AG.LND.ARBL.ZS</td>\n",
       "      <td>NaN</td>\n",
       "      <td>5.240365e+01</td>\n",
       "      <td>5.270433e+01</td>\n",
       "      <td>5.296332e+01</td>\n",
       "      <td>5.305144e+01</td>\n",
       "      <td>5.321422e+01</td>\n",
       "      <td>...</td>\n",
       "      <td>5.279817e+01</td>\n",
       "      <td>5.265254e+01</td>\n",
       "      <td>5.261756e+01</td>\n",
       "      <td>5.262462e+01</td>\n",
       "      <td>5.262462e+01</td>\n",
       "      <td>5.262462e+01</td>\n",
       "      <td>NaN</td>\n",
       "      <td>NaN</td>\n",
       "      <td>NaN</td>\n",
       "      <td>NaN</td>\n",
       "    </tr>\n",
       "  </tbody>\n",
       "</table>\n",
       "<p>1440 rows × 65 columns</p>\n",
       "</div>"
      ],
      "text/plain": [
       "     Country Name Country Code  \\\n",
       "0           India          IND   \n",
       "1           India          IND   \n",
       "2           India          IND   \n",
       "3           India          IND   \n",
       "4           India          IND   \n",
       "...           ...          ...   \n",
       "1435        India          IND   \n",
       "1436        India          IND   \n",
       "1437        India          IND   \n",
       "1438        India          IND   \n",
       "1439        India          IND   \n",
       "\n",
       "                                         Indicator Name        Indicator Code  \\\n",
       "0                       Export value index (2000 = 100)     TX.VAL.MRCH.XD.WD   \n",
       "1     Insurance and financial services (% of commerc...     TX.VAL.INSF.ZS.WT   \n",
       "2     Merchandise imports by the reporting economy, ...     TM.VAL.MRCH.RS.ZS   \n",
       "3               Food imports (% of merchandise imports)     TM.VAL.FOOD.ZS.UN   \n",
       "4     Share of tariff lines with international peaks...     TM.TAX.MRCH.IP.ZS   \n",
       "...                                                 ...                   ...   \n",
       "1435  Foreign direct investment, net inflows (% of GDP)  BX.KLT.DINV.WD.GD.ZS   \n",
       "1436             Net capital account (BoP, current US$)        BN.TRF.KOGT.CD   \n",
       "1437        Travel services (% of service imports, BoP)        BM.GSR.TRVL.ZS   \n",
       "1438                    Cereal production (metric tons)        AG.PRD.CREL.MT   \n",
       "1439                       Arable land (% of land area)        AG.LND.ARBL.ZS   \n",
       "\n",
       "          1960          1961          1962          1963          1964  \\\n",
       "0          NaN           NaN           NaN           NaN           NaN   \n",
       "1          NaN           NaN           NaN           NaN           NaN   \n",
       "2     4.983551  6.488050e+00  1.012461e+01  9.451370e+00  1.052948e+01   \n",
       "3          NaN           NaN  1.708001e+01  1.519791e+01  1.686304e+01   \n",
       "4          NaN           NaN           NaN           NaN           NaN   \n",
       "...        ...           ...           ...           ...           ...   \n",
       "1435       NaN           NaN           NaN           NaN           NaN   \n",
       "1436       NaN           NaN           NaN           NaN           NaN   \n",
       "1437       NaN           NaN           NaN           NaN           NaN   \n",
       "1438       NaN  8.737650e+07  8.725755e+07  9.037301e+07  9.370600e+07   \n",
       "1439       NaN  5.240365e+01  5.270433e+01  5.296332e+01  5.305144e+01   \n",
       "\n",
       "              1965  ...          2011          2012          2013  \\\n",
       "0              NaN  ...  7.147485e+02  7.004085e+02  7.429281e+02   \n",
       "1              NaN  ...  6.403614e+00  5.246771e+00  5.729495e+00   \n",
       "2     1.089112e+01  ...  7.550664e-01  2.738416e-01  4.409538e-01   \n",
       "3     2.200813e+01  ...  3.741041e+00  4.048246e+00  3.895215e+00   \n",
       "4              NaN  ...  8.434346e+00  8.641136e+00  8.576307e+00   \n",
       "...            ...  ...           ...           ...           ...   \n",
       "1435           NaN  ...  2.002065e+00  1.312934e+00  1.516276e+00   \n",
       "1436           NaN  ...  6.791581e+07 -5.972328e+08  9.618297e+08   \n",
       "1437           NaN  ...  1.761773e+01  1.544257e+01  1.475397e+01   \n",
       "1438  7.969950e+07  ...  2.878600e+08  2.932900e+08  2.949095e+08   \n",
       "1439  5.321422e+01  ...  5.279817e+01  5.265254e+01  5.261756e+01   \n",
       "\n",
       "              2014          2015          2016          2017          2018  \\\n",
       "0     7.614417e+02  6.322694e+02  6.242250e+02  7.061028e+02  7.663608e+02   \n",
       "1     5.060904e+00  4.706801e+00  4.471147e+00  3.760466e+00  3.921611e+00   \n",
       "2     1.514439e+00  2.228351e+00  2.270593e+00  1.770314e+00  5.354193e-01   \n",
       "3     4.458509e+00  5.758038e+00  6.505293e+00  6.137617e+00  4.156488e+00   \n",
       "4              NaN  5.802677e+00  7.707811e+00  8.288774e+00  9.111423e+00   \n",
       "...            ...           ...           ...           ...           ...   \n",
       "1435  1.695659e+00  2.092116e+00  1.937363e+00  1.506588e+00  1.552336e+00   \n",
       "1436 -7.433364e+07  3.706943e+07  1.368359e+08  3.731153e+07 -1.231007e+08   \n",
       "1437  1.799216e+01  1.795378e+01  1.707263e+01  1.686302e+01  1.716750e+01   \n",
       "1438  2.960100e+08  2.843330e+08  2.978500e+08  3.136100e+08           NaN   \n",
       "1439  5.262462e+01  5.262462e+01  5.262462e+01           NaN           NaN   \n",
       "\n",
       "              2019  2020  \n",
       "0              NaN   NaN  \n",
       "1     3.438072e+00   NaN  \n",
       "2              NaN   NaN  \n",
       "3     4.248261e+00   NaN  \n",
       "4              NaN   NaN  \n",
       "...            ...   ...  \n",
       "1435  1.760283e+00   NaN  \n",
       "1436 -1.155591e+09   NaN  \n",
       "1437  1.755462e+01   NaN  \n",
       "1438           NaN   NaN  \n",
       "1439           NaN   NaN  \n",
       "\n",
       "[1440 rows x 65 columns]"
      ]
     },
     "execution_count": 11,
     "metadata": {},
     "output_type": "execute_result"
    }
   ],
   "source": [
    "data"
   ]
  },
  {
   "cell_type": "markdown",
   "id": "1860e9e9",
   "metadata": {},
   "source": [
    "# Perform conditional selection to find - Population ages 15-64 (% of total population)"
   ]
  },
  {
   "cell_type": "code",
   "execution_count": 12,
   "id": "98ac5d15",
   "metadata": {},
   "outputs": [
    {
     "data": {
      "text/html": [
       "<div>\n",
       "<style scoped>\n",
       "    .dataframe tbody tr th:only-of-type {\n",
       "        vertical-align: middle;\n",
       "    }\n",
       "\n",
       "    .dataframe tbody tr th {\n",
       "        vertical-align: top;\n",
       "    }\n",
       "\n",
       "    .dataframe thead th {\n",
       "        text-align: right;\n",
       "    }\n",
       "</style>\n",
       "<table border=\"1\" class=\"dataframe\">\n",
       "  <thead>\n",
       "    <tr style=\"text-align: right;\">\n",
       "      <th></th>\n",
       "      <th>Country Name</th>\n",
       "      <th>Country Code</th>\n",
       "      <th>Indicator Name</th>\n",
       "      <th>Indicator Code</th>\n",
       "      <th>1960</th>\n",
       "      <th>1961</th>\n",
       "      <th>1962</th>\n",
       "      <th>1963</th>\n",
       "      <th>1964</th>\n",
       "      <th>1965</th>\n",
       "      <th>...</th>\n",
       "      <th>2011</th>\n",
       "      <th>2012</th>\n",
       "      <th>2013</th>\n",
       "      <th>2014</th>\n",
       "      <th>2015</th>\n",
       "      <th>2016</th>\n",
       "      <th>2017</th>\n",
       "      <th>2018</th>\n",
       "      <th>2019</th>\n",
       "      <th>2020</th>\n",
       "    </tr>\n",
       "  </thead>\n",
       "  <tbody>\n",
       "    <tr>\n",
       "      <th>9</th>\n",
       "      <td>India</td>\n",
       "      <td>IND</td>\n",
       "      <td>Population ages 15-64 (% of total population)</td>\n",
       "      <td>SP.POP.1564.TO.ZS</td>\n",
       "      <td>56.49748</td>\n",
       "      <td>56.177532</td>\n",
       "      <td>55.807455</td>\n",
       "      <td>55.461664</td>\n",
       "      <td>55.248939</td>\n",
       "      <td>55.211351</td>\n",
       "      <td>...</td>\n",
       "      <td>64.429404</td>\n",
       "      <td>64.805519</td>\n",
       "      <td>65.208489</td>\n",
       "      <td>65.59598</td>\n",
       "      <td>65.944164</td>\n",
       "      <td>66.274262</td>\n",
       "      <td>66.538187</td>\n",
       "      <td>66.766743</td>\n",
       "      <td>67.003811</td>\n",
       "      <td>NaN</td>\n",
       "    </tr>\n",
       "  </tbody>\n",
       "</table>\n",
       "<p>1 rows × 65 columns</p>\n",
       "</div>"
      ],
      "text/plain": [
       "  Country Name Country Code                                 Indicator Name  \\\n",
       "9        India          IND  Population ages 15-64 (% of total population)   \n",
       "\n",
       "      Indicator Code      1960       1961       1962       1963       1964  \\\n",
       "9  SP.POP.1564.TO.ZS  56.49748  56.177532  55.807455  55.461664  55.248939   \n",
       "\n",
       "        1965  ...       2011       2012       2013      2014       2015  \\\n",
       "9  55.211351  ...  64.429404  64.805519  65.208489  65.59598  65.944164   \n",
       "\n",
       "        2016       2017       2018       2019  2020  \n",
       "9  66.274262  66.538187  66.766743  67.003811   NaN  \n",
       "\n",
       "[1 rows x 65 columns]"
      ]
     },
     "execution_count": 12,
     "metadata": {},
     "output_type": "execute_result"
    }
   ],
   "source": [
    "data1 = data[data['Indicator Name']=='Population ages 15-64 (% of total population)']\n",
    "data1"
   ]
  },
  {
   "cell_type": "markdown",
   "id": "2cd9cfd0",
   "metadata": {},
   "source": [
    "# Divide the data into input and output"
   ]
  },
  {
   "cell_type": "code",
   "execution_count": 24,
   "id": "fc131e3f",
   "metadata": {},
   "outputs": [],
   "source": [
    "x = np.arange(1960,2020).reshape(-1,1)\n",
    "y = data1.values[0][4:-1]"
   ]
  },
  {
   "cell_type": "markdown",
   "id": "38780dac",
   "metadata": {},
   "source": [
    "# Plot scatter plot of Population ages 15-64 (% of total population)"
   ]
  },
  {
   "cell_type": "code",
   "execution_count": 25,
   "id": "463821f0",
   "metadata": {},
   "outputs": [
    {
     "data": {
      "image/png": "[encoded data removed]",
      "text/plain": [
       "<Figure size 640x480 with 1 Axes>"
      ]
     },
     "metadata": {},
     "output_type": "display_data"
    }
   ],
   "source": [
    "plt.scatter(x,y)\n",
    "plt.show()"
   ]
  },
  {
   "cell_type": "markdown",
   "id": "b3ad4c9d",
   "metadata": {},
   "source": [
    "# Splitting the dataset into the Training set and Test set"
   ]
  },
  {
   "cell_type": "code",
   "execution_count": 28,
   "id": "fe47ef39",
   "metadata": {},
   "outputs": [],
   "source": [
    "x_train, x_test, y_train, y_test = train_test_split(x,y,test_size=0.3,random_state=7)"
   ]
  },
  {
   "cell_type": "code",
   "execution_count": 29,
   "id": "caf39a5c",
   "metadata": {},
   "outputs": [
    {
     "data": {
      "text/plain": [
       "array([[1991],\n",
       "       [1980],\n",
       "       [2019],\n",
       "       [1977],\n",
       "       [1970],\n",
       "       [2004],\n",
       "       [1994],\n",
       "       [1975],\n",
       "       [1981],\n",
       "       [1990],\n",
       "       [1997],\n",
       "       [2005],\n",
       "       [1972],\n",
       "       [1973],\n",
       "       [1987],\n",
       "       [1978],\n",
       "       [1992],\n",
       "       [1961]])"
      ]
     },
     "execution_count": 29,
     "metadata": {},
     "output_type": "execute_result"
    }
   ],
   "source": [
    "x_test"
   ]
  },
  {
   "cell_type": "code",
   "execution_count": null,
   "id": "cb480fff",
   "metadata": {},
   "outputs": [],
   "source": []
  },
  {
   "cell_type": "markdown",
   "id": "991c1d0e",
   "metadata": {},
   "source": [
    "# Fitting SVR on 3 Different Kernel on dataset"
   ]
  },
  {
   "cell_type": "code",
   "execution_count": 53,
   "id": "c8c88275",
   "metadata": {},
   "outputs": [],
   "source": [
    "model_lin = SVR(kernel='linear')\n",
    "\n",
    "model_poly = SVR(kernel='poly', C=1.0, epsilon=0.1)\n",
    "\n",
    "model_rbf = SVR(kernel='rbf')"
   ]
  },
  {
   "cell_type": "code",
   "execution_count": 54,
   "id": "ed190af2",
   "metadata": {},
   "outputs": [
    {
     "data": {
      "text/html": [
       "<style>#sk-container-id-6 {color: black;background-color: white;}#sk-container-id-6 pre{padding: 0;}#sk-container-id-6 div.sk-toggleable {background-color: white;}#sk-container-id-6 label.sk-toggleable__label {cursor: pointer;display: block;width: 100%;margin-bottom: 0;padding: 0.3em;box-sizing: border-box;text-align: center;}#sk-container-id-6 label.sk-toggleable__label-arrow:before {content: \"▸\";float: left;margin-right: 0.25em;color: #696969;}#sk-container-id-6 label.sk-toggleable__label-arrow:hover:before {color: black;}#sk-container-id-6 div.sk-estimator:hover label.sk-toggleable__label-arrow:before {color: black;}#sk-container-id-6 div.sk-toggleable__content {max-height: 0;max-width: 0;overflow: hidden;text-align: left;background-color: #f0f8ff;}#sk-container-id-6 div.sk-toggleable__content pre {margin: 0.2em;color: black;border-radius: 0.25em;background-color: #f0f8ff;}#sk-container-id-6 input.sk-toggleable__control:checked~div.sk-toggleable__content {max-height: 200px;max-width: 100%;overflow: auto;}#sk-container-id-6 input.sk-toggleable__control:checked~label.sk-toggleable__label-arrow:before {content: \"▾\";}#sk-container-id-6 div.sk-estimator input.sk-toggleable__control:checked~label.sk-toggleable__label {background-color: #d4ebff;}#sk-container-id-6 div.sk-label input.sk-toggleable__control:checked~label.sk-toggleable__label {background-color: #d4ebff;}#sk-container-id-6 input.sk-hidden--visually {border: 0;clip: rect(1px 1px 1px 1px);clip: rect(1px, 1px, 1px, 1px);height: 1px;margin: -1px;overflow: hidden;padding: 0;position: absolute;width: 1px;}#sk-container-id-6 div.sk-estimator {font-family: monospace;background-color: #f0f8ff;border: 1px dotted black;border-radius: 0.25em;box-sizing: border-box;margin-bottom: 0.5em;}#sk-container-id-6 div.sk-estimator:hover {background-color: #d4ebff;}#sk-container-id-6 div.sk-parallel-item::after {content: \"\";width: 100%;border-bottom: 1px solid gray;flex-grow: 1;}#sk-container-id-6 div.sk-label:hover label.sk-toggleable__label {background-color: #d4ebff;}#sk-container-id-6 div.sk-serial::before {content: \"\";position: absolute;border-left: 1px solid gray;box-sizing: border-box;top: 0;bottom: 0;left: 50%;z-index: 0;}#sk-container-id-6 div.sk-serial {display: flex;flex-direction: column;align-items: center;background-color: white;padding-right: 0.2em;padding-left: 0.2em;position: relative;}#sk-container-id-6 div.sk-item {position: relative;z-index: 1;}#sk-container-id-6 div.sk-parallel {display: flex;align-items: stretch;justify-content: center;background-color: white;position: relative;}#sk-container-id-6 div.sk-item::before, #sk-container-id-6 div.sk-parallel-item::before {content: \"\";position: absolute;border-left: 1px solid gray;box-sizing: border-box;top: 0;bottom: 0;left: 50%;z-index: -1;}#sk-container-id-6 div.sk-parallel-item {display: flex;flex-direction: column;z-index: 1;position: relative;background-color: white;}#sk-container-id-6 div.sk-parallel-item:first-child::after {align-self: flex-end;width: 50%;}#sk-container-id-6 div.sk-parallel-item:last-child::after {align-self: flex-start;width: 50%;}#sk-container-id-6 div.sk-parallel-item:only-child::after {width: 0;}#sk-container-id-6 div.sk-dashed-wrapped {border: 1px dashed gray;margin: 0 0.4em 0.5em 0.4em;box-sizing: border-box;padding-bottom: 0.4em;background-color: white;}#sk-container-id-6 div.sk-label label {font-family: monospace;font-weight: bold;display: inline-block;line-height: 1.2em;}#sk-container-id-6 div.sk-label-container {text-align: center;}#sk-container-id-6 div.sk-container {/* jupyter's `normalize.less` sets `[hidden] { display: none; }` but bootstrap.min.css set `[hidden] { display: none !important; }` so we also need the `!important` here to be able to override the default hidden behavior on the sphinx rendered scikit-learn.org. See: https://github.com/scikit-learn/scikit-learn/issues/21755 */display: inline-block !important;position: relative;}#sk-container-id-6 div.sk-text-repr-fallback {display: none;}</style><div id=\"sk-container-id-6\" class=\"sk-top-container\"><div class=\"sk-text-repr-fallback\"><pre>SVR(kernel=&#x27;linear&#x27;)</pre><b>In a Jupyter environment, please rerun this cell to show the HTML representation or trust the notebook. <br />On GitHub, the HTML representation is unable to render, please try loading this page with nbviewer.org.</b></div><div class=\"sk-container\" hidden><div class=\"sk-item\"><div class=\"sk-estimator sk-toggleable\"><input class=\"sk-toggleable__control sk-hidden--visually\" id=\"sk-estimator-id-6\" type=\"checkbox\" checked><label for=\"sk-estimator-id-6\" class=\"sk-toggleable__label sk-toggleable__label-arrow\">SVR</label><div class=\"sk-toggleable__content\"><pre>SVR(kernel=&#x27;linear&#x27;)</pre></div></div></div></div></div>"
      ],
      "text/plain": [
       "SVR(kernel='linear')"
      ]
     },
     "execution_count": 54,
     "metadata": {},
     "output_type": "execute_result"
    }
   ],
   "source": [
    "model_lin.fit(x_train, y_train)"
   ]
  },
  {
   "cell_type": "code",
   "execution_count": 55,
   "id": "bb4d4d68-28c4-4508-9320-a432d324a1e7",
   "metadata": {},
   "outputs": [
    {
     "data": {
      "text/html": [
       "<style>#sk-container-id-7 {color: black;background-color: white;}#sk-container-id-7 pre{padding: 0;}#sk-container-id-7 div.sk-toggleable {background-color: white;}#sk-container-id-7 label.sk-toggleable__label {cursor: pointer;display: block;width: 100%;margin-bottom: 0;padding: 0.3em;box-sizing: border-box;text-align: center;}#sk-container-id-7 label.sk-toggleable__label-arrow:before {content: \"▸\";float: left;margin-right: 0.25em;color: #696969;}#sk-container-id-7 label.sk-toggleable__label-arrow:hover:before {color: black;}#sk-container-id-7 div.sk-estimator:hover label.sk-toggleable__label-arrow:before {color: black;}#sk-container-id-7 div.sk-toggleable__content {max-height: 0;max-width: 0;overflow: hidden;text-align: left;background-color: #f0f8ff;}#sk-container-id-7 div.sk-toggleable__content pre {margin: 0.2em;color: black;border-radius: 0.25em;background-color: #f0f8ff;}#sk-container-id-7 input.sk-toggleable__control:checked~div.sk-toggleable__content {max-height: 200px;max-width: 100%;overflow: auto;}#sk-container-id-7 input.sk-toggleable__control:checked~label.sk-toggleable__label-arrow:before {content: \"▾\";}#sk-container-id-7 div.sk-estimator input.sk-toggleable__control:checked~label.sk-toggleable__label {background-color: #d4ebff;}#sk-container-id-7 div.sk-label input.sk-toggleable__control:checked~label.sk-toggleable__label {background-color: #d4ebff;}#sk-container-id-7 input.sk-hidden--visually {border: 0;clip: rect(1px 1px 1px 1px);clip: rect(1px, 1px, 1px, 1px);height: 1px;margin: -1px;overflow: hidden;padding: 0;position: absolute;width: 1px;}#sk-container-id-7 div.sk-estimator {font-family: monospace;background-color: #f0f8ff;border: 1px dotted black;border-radius: 0.25em;box-sizing: border-box;margin-bottom: 0.5em;}#sk-container-id-7 div.sk-estimator:hover {background-color: #d4ebff;}#sk-container-id-7 div.sk-parallel-item::after {content: \"\";width: 100%;border-bottom: 1px solid gray;flex-grow: 1;}#sk-container-id-7 div.sk-label:hover label.sk-toggleable__label {background-color: #d4ebff;}#sk-container-id-7 div.sk-serial::before {content: \"\";position: absolute;border-left: 1px solid gray;box-sizing: border-box;top: 0;bottom: 0;left: 50%;z-index: 0;}#sk-container-id-7 div.sk-serial {display: flex;flex-direction: column;align-items: center;background-color: white;padding-right: 0.2em;padding-left: 0.2em;position: relative;}#sk-container-id-7 div.sk-item {position: relative;z-index: 1;}#sk-container-id-7 div.sk-parallel {display: flex;align-items: stretch;justify-content: center;background-color: white;position: relative;}#sk-container-id-7 div.sk-item::before, #sk-container-id-7 div.sk-parallel-item::before {content: \"\";position: absolute;border-left: 1px solid gray;box-sizing: border-box;top: 0;bottom: 0;left: 50%;z-index: -1;}#sk-container-id-7 div.sk-parallel-item {display: flex;flex-direction: column;z-index: 1;position: relative;background-color: white;}#sk-container-id-7 div.sk-parallel-item:first-child::after {align-self: flex-end;width: 50%;}#sk-container-id-7 div.sk-parallel-item:last-child::after {align-self: flex-start;width: 50%;}#sk-container-id-7 div.sk-parallel-item:only-child::after {width: 0;}#sk-container-id-7 div.sk-dashed-wrapped {border: 1px dashed gray;margin: 0 0.4em 0.5em 0.4em;box-sizing: border-box;padding-bottom: 0.4em;background-color: white;}#sk-container-id-7 div.sk-label label {font-family: monospace;font-weight: bold;display: inline-block;line-height: 1.2em;}#sk-container-id-7 div.sk-label-container {text-align: center;}#sk-container-id-7 div.sk-container {/* jupyter's `normalize.less` sets `[hidden] { display: none; }` but bootstrap.min.css set `[hidden] { display: none !important; }` so we also need the `!important` here to be able to override the default hidden behavior on the sphinx rendered scikit-learn.org. See: https://github.com/scikit-learn/scikit-learn/issues/21755 */display: inline-block !important;position: relative;}#sk-container-id-7 div.sk-text-repr-fallback {display: none;}</style><div id=\"sk-container-id-7\" class=\"sk-top-container\"><div class=\"sk-text-repr-fallback\"><pre>SVR(kernel=&#x27;poly&#x27;)</pre><b>In a Jupyter environment, please rerun this cell to show the HTML representation or trust the notebook. <br />On GitHub, the HTML representation is unable to render, please try loading this page with nbviewer.org.</b></div><div class=\"sk-container\" hidden><div class=\"sk-item\"><div class=\"sk-estimator sk-toggleable\"><input class=\"sk-toggleable__control sk-hidden--visually\" id=\"sk-estimator-id-7\" type=\"checkbox\" checked><label for=\"sk-estimator-id-7\" class=\"sk-toggleable__label sk-toggleable__label-arrow\">SVR</label><div class=\"sk-toggleable__content\"><pre>SVR(kernel=&#x27;poly&#x27;)</pre></div></div></div></div></div>"
      ],
      "text/plain": [
       "SVR(kernel='poly')"
      ]
     },
     "execution_count": 55,
     "metadata": {},
     "output_type": "execute_result"
    }
   ],
   "source": [
    "model_poly.fit(x_train, y_train)"
   ]
  },
  {
   "cell_type": "code",
   "execution_count": 56,
   "id": "3613a0e5-c3d8-4119-be43-26ad3efe3b47",
   "metadata": {},
   "outputs": [
    {
     "data": {
      "text/html": [
       "<style>#sk-container-id-8 {color: black;background-color: white;}#sk-container-id-8 pre{padding: 0;}#sk-container-id-8 div.sk-toggleable {background-color: white;}#sk-container-id-8 label.sk-toggleable__label {cursor: pointer;display: block;width: 100%;margin-bottom: 0;padding: 0.3em;box-sizing: border-box;text-align: center;}#sk-container-id-8 label.sk-toggleable__label-arrow:before {content: \"▸\";float: left;margin-right: 0.25em;color: #696969;}#sk-container-id-8 label.sk-toggleable__label-arrow:hover:before {color: black;}#sk-container-id-8 div.sk-estimator:hover label.sk-toggleable__label-arrow:before {color: black;}#sk-container-id-8 div.sk-toggleable__content {max-height: 0;max-width: 0;overflow: hidden;text-align: left;background-color: #f0f8ff;}#sk-container-id-8 div.sk-toggleable__content pre {margin: 0.2em;color: black;border-radius: 0.25em;background-color: #f0f8ff;}#sk-container-id-8 input.sk-toggleable__control:checked~div.sk-toggleable__content {max-height: 200px;max-width: 100%;overflow: auto;}#sk-container-id-8 input.sk-toggleable__control:checked~label.sk-toggleable__label-arrow:before {content: \"▾\";}#sk-container-id-8 div.sk-estimator input.sk-toggleable__control:checked~label.sk-toggleable__label {background-color: #d4ebff;}#sk-container-id-8 div.sk-label input.sk-toggleable__control:checked~label.sk-toggleable__label {background-color: #d4ebff;}#sk-container-id-8 input.sk-hidden--visually {border: 0;clip: rect(1px 1px 1px 1px);clip: rect(1px, 1px, 1px, 1px);height: 1px;margin: -1px;overflow: hidden;padding: 0;position: absolute;width: 1px;}#sk-container-id-8 div.sk-estimator {font-family: monospace;background-color: #f0f8ff;border: 1px dotted black;border-radius: 0.25em;box-sizing: border-box;margin-bottom: 0.5em;}#sk-container-id-8 div.sk-estimator:hover {background-color: #d4ebff;}#sk-container-id-8 div.sk-parallel-item::after {content: \"\";width: 100%;border-bottom: 1px solid gray;flex-grow: 1;}#sk-container-id-8 div.sk-label:hover label.sk-toggleable__label {background-color: #d4ebff;}#sk-container-id-8 div.sk-serial::before {content: \"\";position: absolute;border-left: 1px solid gray;box-sizing: border-box;top: 0;bottom: 0;left: 50%;z-index: 0;}#sk-container-id-8 div.sk-serial {display: flex;flex-direction: column;align-items: center;background-color: white;padding-right: 0.2em;padding-left: 0.2em;position: relative;}#sk-container-id-8 div.sk-item {position: relative;z-index: 1;}#sk-container-id-8 div.sk-parallel {display: flex;align-items: stretch;justify-content: center;background-color: white;position: relative;}#sk-container-id-8 div.sk-item::before, #sk-container-id-8 div.sk-parallel-item::before {content: \"\";position: absolute;border-left: 1px solid gray;box-sizing: border-box;top: 0;bottom: 0;left: 50%;z-index: -1;}#sk-container-id-8 div.sk-parallel-item {display: flex;flex-direction: column;z-index: 1;position: relative;background-color: white;}#sk-container-id-8 div.sk-parallel-item:first-child::after {align-self: flex-end;width: 50%;}#sk-container-id-8 div.sk-parallel-item:last-child::after {align-self: flex-start;width: 50%;}#sk-container-id-8 div.sk-parallel-item:only-child::after {width: 0;}#sk-container-id-8 div.sk-dashed-wrapped {border: 1px dashed gray;margin: 0 0.4em 0.5em 0.4em;box-sizing: border-box;padding-bottom: 0.4em;background-color: white;}#sk-container-id-8 div.sk-label label {font-family: monospace;font-weight: bold;display: inline-block;line-height: 1.2em;}#sk-container-id-8 div.sk-label-container {text-align: center;}#sk-container-id-8 div.sk-container {/* jupyter's `normalize.less` sets `[hidden] { display: none; }` but bootstrap.min.css set `[hidden] { display: none !important; }` so we also need the `!important` here to be able to override the default hidden behavior on the sphinx rendered scikit-learn.org. See: https://github.com/scikit-learn/scikit-learn/issues/21755 */display: inline-block !important;position: relative;}#sk-container-id-8 div.sk-text-repr-fallback {display: none;}</style><div id=\"sk-container-id-8\" class=\"sk-top-container\"><div class=\"sk-text-repr-fallback\"><pre>SVR()</pre><b>In a Jupyter environment, please rerun this cell to show the HTML representation or trust the notebook. <br />On GitHub, the HTML representation is unable to render, please try loading this page with nbviewer.org.</b></div><div class=\"sk-container\" hidden><div class=\"sk-item\"><div class=\"sk-estimator sk-toggleable\"><input class=\"sk-toggleable__control sk-hidden--visually\" id=\"sk-estimator-id-8\" type=\"checkbox\" checked><label for=\"sk-estimator-id-8\" class=\"sk-toggleable__label sk-toggleable__label-arrow\">SVR</label><div class=\"sk-toggleable__content\"><pre>SVR()</pre></div></div></div></div></div>"
      ],
      "text/plain": [
       "SVR()"
      ]
     },
     "execution_count": 56,
     "metadata": {},
     "output_type": "execute_result"
    }
   ],
   "source": [
    "model_rbf.fit(x_train, y_train)"
   ]
  },
  {
   "cell_type": "markdown",
   "id": "133e9b43",
   "metadata": {},
   "source": [
    "# Predict the x_test using 3 Kernel"
   ]
  },
  {
   "cell_type": "code",
   "execution_count": 57,
   "id": "60cdc2f6",
   "metadata": {},
   "outputs": [],
   "source": [
    "y_predict_lin = model_lin.predict(x)\n",
    "y_predict_poly = model_poly.predict(x)\n",
    "y_predict_rbf = model_rbf.predict(x)"
   ]
  },
  {
   "cell_type": "markdown",
   "id": "884c7829",
   "metadata": {},
   "source": [
    "# Visualising the  results"
   ]
  },
  {
   "cell_type": "code",
   "execution_count": 58,
   "id": "40606626",
   "metadata": {},
   "outputs": [
    {
     "data": {
      "text/plain": [
       "array([58.37403848, 57.1425581, 67.00381119, 56.62068516, 55.78194745,\n",
       "       62.173897, 59.012126, 56.44405309, 57.18105454, 58.22990246,\n",
       "       59.8572303, 62.52276485, 55.95268174, 56.07247186, 57.6545119,\n",
       "       56.78900152, 58.5472698, 56.17753236], dtype=object)"
      ]
     },
     "execution_count": 58,
     "metadata": {},
     "output_type": "execute_result"
    }
   ],
   "source": [
    "y_test"
   ]
  },
  {
   "cell_type": "code",
   "execution_count": 59,
   "id": "a4681550-8cc2-4704-aa22-a1196ab6a232",
   "metadata": {},
   "outputs": [
    {
     "data": {
      "text/plain": [
       "array([53.50910347, 53.71343665, 53.91776983, 54.12210301, 54.32643619,\n",
       "       54.53076937, 54.73510255, 54.93943573, 55.14376892, 55.3481021 ,\n",
       "       55.55243528, 55.75676846, 55.96110164, 56.16543482, 56.369768  ,\n",
       "       56.57410119, 56.77843437, 56.98276755, 57.18710073, 57.39143391,\n",
       "       57.59576709, 57.80010027, 58.00443346, 58.20876664, 58.41309982,\n",
       "       58.617433  , 58.82176618, 59.02609936, 59.23043254, 59.43476572,\n",
       "       59.63909891, 59.84343209, 60.04776527, 60.25209845, 60.45643163,\n",
       "       60.66076482, 60.865098  , 61.06943118, 61.27376436, 61.47809754,\n",
       "       61.68243072, 61.8867639 , 62.09109708, 62.29543027, 62.49976345,\n",
       "       62.70409663, 62.90842981, 63.11276299, 63.31709617, 63.52142935,\n",
       "       63.72576253, 63.93009572, 64.1344289 , 64.33876208, 64.54309526,\n",
       "       64.74742844, 64.95176162, 65.1560948 , 65.36042799, 65.56476117])"
      ]
     },
     "execution_count": 59,
     "metadata": {},
     "output_type": "execute_result"
    }
   ],
   "source": [
    "y_predict_lin"
   ]
  },
  {
   "cell_type": "code",
   "execution_count": 60,
   "id": "cb70f159-963a-4aec-bba9-31ef5e17ff6d",
   "metadata": {},
   "outputs": [
    {
     "data": {
      "text/plain": [
       "array([ -75362.50157507,  -75855.11021765,  -76348.22789343,\n",
       "        -76841.84874304,  -77335.9734989 ,  -77830.59581335,\n",
       "        -78325.72545202,  -78821.3563114 ,  -79317.49669226,\n",
       "        -79814.13975866,  -80311.28038366,  -80808.93394812,\n",
       "        -81307.09337194,  -81805.75157507,  -82304.92271765,\n",
       "        -82804.59752234,  -83304.77379187,  -83805.46129187,\n",
       "        -84306.65367468,  -84808.35899694,  -85310.56676062,\n",
       "        -85813.28526648,  -86316.50426062,  -86820.23497351,\n",
       "        -87324.47545202,  -87829.22130163,  -88334.48057898,\n",
       "        -88840.24742468,  -89346.51915319,  -89853.30357702,\n",
       "        -90360.6009403 ,  -90868.40465124,  -91376.71959265,\n",
       "        -91885.54967077,  -92394.88511999,  -92904.73155554,\n",
       "        -93415.08580359,  -93925.95860632,  -94437.34215124,\n",
       "        -94949.23741491,  -95461.64464148,  -95974.56456335,\n",
       "        -96487.99888952,  -97001.93980749,  -97516.40684851,\n",
       "        -98031.37828405,  -98546.86363562,  -99062.86754187,\n",
       "        -99579.3797489 , -100096.4134403 , -100613.95640905,\n",
       "       -101132.01939734, -101650.59434851, -102169.6868778 ,\n",
       "       -102689.29454382, -103209.41856726, -103730.05577429,\n",
       "       -104251.21495398, -104772.88927038, -105295.08262976])"
      ]
     },
     "execution_count": 60,
     "metadata": {},
     "output_type": "execute_result"
    }
   ],
   "source": [
    "y_predict_poly"
   ]
  },
  {
   "cell_type": "code",
   "execution_count": 61,
   "id": "aa0f38c8-47aa-44c8-8007-3fb7f24714c5",
   "metadata": {},
   "outputs": [
    {
     "data": {
      "text/plain": [
       "array([55.94533846, 55.82416045, 55.72357539, 55.64489258, 55.58896   ,\n",
       "       55.55613554, 55.54627623, 55.55874625, 55.59244409, 55.64584805,\n",
       "       55.71707847, 55.8039743 , 55.90418082, 56.0152447 , 56.13471253,\n",
       "       56.26022835, 56.38962615, 56.52101334, 56.6528418 , 56.78396355,\n",
       "       56.9136692 , 57.04170755, 57.16828632, 57.29405399, 57.42006433,\n",
       "       57.54772502, 57.67873312, 57.81499971, 57.9585671 , 58.11152133,\n",
       "       58.27590324, 58.45362083, 58.64636576, 58.85553617, 59.08216806,\n",
       "       59.32687682, 59.58981038, 59.87061502, 60.16841471, 60.48180439,\n",
       "       60.80885759, 61.14714823, 61.4937865 , 61.84546815, 62.19853639,\n",
       "       62.5490552 , 62.89289252, 63.22581145, 63.54356716, 63.84200704,\n",
       "       64.11717122, 64.36539054, 64.58337874, 64.76831609, 64.91792137,\n",
       "       65.03050982, 65.10503485, 65.14111205, 65.13902452, 65.09970939])"
      ]
     },
     "execution_count": 61,
     "metadata": {},
     "output_type": "execute_result"
    }
   ],
   "source": [
    "y_predict_rbf"
   ]
  },
  {
   "cell_type": "code",
   "execution_count": 69,
   "id": "3128e224-c762-426b-910d-53ccd2c47254",
   "metadata": {},
   "outputs": [
    {
     "data": {
      "text/plain": [
       "<matplotlib.collections.PathCollection at 0x14cad8fd0>"
      ]
     },
     "execution_count": 69,
     "metadata": {},
     "output_type": "execute_result"
    },
    {
     "data": {
      "image/png": "[encoded data removed]",
      "text/plain": [
       "<Figure size 640x480 with 1 Axes>"
      ]
     },
     "metadata": {},
     "output_type": "display_data"
    }
   ],
   "source": [
    "plt.scatter(x,y)\n",
    "plt.scatter(x,y_predict_lin)\n",
    "plt.scatter(x,y_predict_rbf)"
   ]
  },
  {
   "cell_type": "markdown",
   "id": "17f7c8bb",
   "metadata": {},
   "source": [
    "# Decision Tree Classifier"
   ]
  },
  {
   "cell_type": "code",
   "execution_count": 63,
   "id": "c8478e9b",
   "metadata": {},
   "outputs": [],
   "source": [
    "# Visualising the  resultsfrom sklearn.datasets import load_iris"
   ]
  },
  {
   "cell_type": "markdown",
   "id": "b8871bc5",
   "metadata": {},
   "source": [
    "# Import iris data ser using sklearn"
   ]
  },
  {
   "cell_type": "code",
   "execution_count": 72,
   "id": "3d12450f",
   "metadata": {},
   "outputs": [],
   "source": [
    "from sklearn.datasets import load_iris"
   ]
  },
  {
   "cell_type": "markdown",
   "id": "f4706b18",
   "metadata": {},
   "source": [
    "# Importing the libraries"
   ]
  },
  {
   "cell_type": "code",
   "execution_count": 75,
   "id": "eb403699",
   "metadata": {},
   "outputs": [],
   "source": [
    "from sklearn.tree import DecisionTreeClassifier\n",
    "from sklearn.model_selection import train_test_split\n",
    "from sklearn.metrics import accuracy_score\n",
    "from sklearn import tree"
   ]
  },
  {
   "cell_type": "markdown",
   "id": "29f83e81",
   "metadata": {},
   "source": [
    "# Divide the data into input and output"
   ]
  },
  {
   "cell_type": "code",
   "execution_count": 77,
   "id": "d990dbfe",
   "metadata": {},
   "outputs": [],
   "source": [
    "data = load_iris()"
   ]
  },
  {
   "cell_type": "code",
   "execution_count": 78,
   "id": "4aa6cda5",
   "metadata": {},
   "outputs": [],
   "source": [
    "x = data.data"
   ]
  },
  {
   "cell_type": "code",
   "execution_count": 79,
   "id": "d94f5364",
   "metadata": {},
   "outputs": [],
   "source": [
    "y = data.target"
   ]
  },
  {
   "cell_type": "markdown",
   "id": "cb928fc3",
   "metadata": {},
   "source": [
    "# Splitting the dataset into the Training set and Test set"
   ]
  },
  {
   "cell_type": "code",
   "execution_count": 83,
   "id": "2be76de0",
   "metadata": {},
   "outputs": [],
   "source": [
    "x_train, x_test, y_train, y_test = train_test_split(x,y,test_size=0.3,random_state=45)\n",
    "# x_test"
   ]
  },
  {
   "cell_type": "markdown",
   "id": "f5cbc515",
   "metadata": {},
   "source": [
    "# Fitting DecisionTreeClassifier   on dataset"
   ]
  },
  {
   "cell_type": "code",
   "execution_count": 88,
   "id": "ed6eb1b0",
   "metadata": {},
   "outputs": [],
   "source": [
    "model = DecisionTreeClassifier()"
   ]
  },
  {
   "cell_type": "code",
   "execution_count": 89,
   "id": "3fc84403",
   "metadata": {},
   "outputs": [],
   "source": [
    "t = model.fit(x_train, y_train)"
   ]
  },
  {
   "cell_type": "markdown",
   "id": "0d476f63",
   "metadata": {},
   "source": [
    "# Display Decision Tree"
   ]
  },
  {
   "cell_type": "code",
   "execution_count": 90,
   "id": "6e51953e",
   "metadata": {},
   "outputs": [
    {
     "data": {
      "text/plain": [
       "[Text(0.3181818181818182, 0.9166666666666666, 'X[2] <= 2.45\\ngini = 0.666\\nsamples = 105\\nvalue = [33, 37, 35]'),\n",
       " Text(0.22727272727272727, 0.75, 'gini = 0.0\\nsamples = 33\\nvalue = [33, 0, 0]'),\n",
       " Text(0.4090909090909091, 0.75, 'X[3] <= 1.65\\ngini = 0.5\\nsamples = 72\\nvalue = [0, 37, 35]'),\n",
       " Text(0.18181818181818182, 0.5833333333333334, 'X[2] <= 5.35\\ngini = 0.054\\nsamples = 36\\nvalue = [0, 35, 1]'),\n",
       " Text(0.09090909090909091, 0.4166666666666667, 'gini = 0.0\\nsamples = 35\\nvalue = [0, 35, 0]'),\n",
       " Text(0.2727272727272727, 0.4166666666666667, 'gini = 0.0\\nsamples = 1\\nvalue = [0, 0, 1]'),\n",
       " Text(0.6363636363636364, 0.5833333333333334, 'X[3] <= 1.75\\ngini = 0.105\\nsamples = 36\\nvalue = [0, 2, 34]'),\n",
       " Text(0.45454545454545453, 0.4166666666666667, 'X[0] <= 5.8\\ngini = 0.5\\nsamples = 2\\nvalue = [0, 1, 1]'),\n",
       " Text(0.36363636363636365, 0.25, 'gini = 0.0\\nsamples = 1\\nvalue = [0, 0, 1]'),\n",
       " Text(0.5454545454545454, 0.25, 'gini = 0.0\\nsamples = 1\\nvalue = [0, 1, 0]'),\n",
       " Text(0.8181818181818182, 0.4166666666666667, 'X[2] <= 4.85\\ngini = 0.057\\nsamples = 34\\nvalue = [0, 1, 33]'),\n",
       " Text(0.7272727272727273, 0.25, 'X[0] <= 5.95\\ngini = 0.444\\nsamples = 3\\nvalue = [0, 1, 2]'),\n",
       " Text(0.6363636363636364, 0.08333333333333333, 'gini = 0.0\\nsamples = 1\\nvalue = [0, 1, 0]'),\n",
       " Text(0.8181818181818182, 0.08333333333333333, 'gini = 0.0\\nsamples = 2\\nvalue = [0, 0, 2]'),\n",
       " Text(0.9090909090909091, 0.25, 'gini = 0.0\\nsamples = 31\\nvalue = [0, 0, 31]')]"
      ]
     },
     "execution_count": 90,
     "metadata": {},
     "output_type": "execute_result"
    },
    {
     "data": {
      "image/png": "[encoded data removed]",
      "text/plain": [
       "<Figure size 640x480 with 1 Axes>"
      ]
     },
     "metadata": {},
     "output_type": "display_data"
    }
   ],
   "source": [
    "tree.plot_tree(t)"
   ]
  },
  {
   "cell_type": "markdown",
   "id": "b42d5cd8",
   "metadata": {},
   "source": [
    "# Predict the x_test "
   ]
  },
  {
   "cell_type": "code",
   "execution_count": 92,
   "id": "a166ed56",
   "metadata": {},
   "outputs": [],
   "source": [
    "y_predict = model.predict(x)\n"
   ]
  },
  {
   "cell_type": "code",
   "execution_count": null,
   "id": "8f634bc9",
   "metadata": {},
   "outputs": [],
   "source": []
  },
  {
   "cell_type": "code",
   "execution_count": null,
   "id": "4f0d1238",
   "metadata": {},
   "outputs": [],
   "source": []
  },
  {
   "cell_type": "code",
   "execution_count": null,
   "id": "850a89a3",
   "metadata": {},
   "outputs": [],
   "source": []
  },
  {
   "cell_type": "code",
   "execution_count": null,
   "id": "989bb967",
   "metadata": {},
   "outputs": [],
   "source": []
  }
 ],
 "metadata": {
  "kernelspec": {
   "display_name": "Python 3 (ipykernel)",
   "language": "python",
   "name": "python3"
  },
  "language_info": {
   "codemirror_mode": {
    "name": "ipython",
    "version": 3
   },
   "file_extension": ".py",
   "mimetype": "text/x-python",
   "name": "python",
   "nbconvert_exporter": "python",
   "pygments_lexer": "ipython3",
   "version": "3.11.7"
  }
 },
 "nbformat": 4,
 "nbformat_minor": 5
}
